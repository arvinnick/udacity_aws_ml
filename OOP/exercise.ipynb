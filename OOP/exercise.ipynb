{
 "cells": [
  {
   "cell_type": "markdown",
   "metadata": {
    "pycharm": {
     "name": "#%% md\n"
    }
   },
   "source": [
    "# OOP Syntax Exercise - Part 2\n",
    "\n",
    "Now that you've had some practice instantiating objects, it's time to write your own class from scratch. This lesson has two parts. In the first part, you'll write a Pants class. This class is similar to the shirt class with a couple of changes. Then you'll practice instantiating Pants objects\n",
    "\n",
    "In the second part, you'll write another class called SalesPerson. You'll also instantiate objects for the SalesPerson.\n",
    "\n",
    "For this exercise, you can do all of your work in this Jupyter notebook. You will not need to import the class because all of your code will be in this Jupyter notebook.\n",
    "\n",
    "Answers are also provided. If you click on the Jupyter icon, you can open a folder called 2.OOP_syntax_pants_practice, which contains this Jupyter notebook ('exercise.ipynb') and a file called answer.py."
   ]
  },
  {
   "cell_type": "markdown",
   "metadata": {
    "pycharm": {
     "name": "#%% md\n"
    }
   },
   "source": [
    "# Pants class\n",
    "\n",
    "Write a Pants class with the following characteristics:\n",
    "* the class name should be Pants\n",
    "* the class attributes should include\n",
    " * color\n",
    " * waist_size\n",
    " * length\n",
    " * price\n",
    "* the class should have an init function that initializes all of the attributes\n",
    "* the class should have two methods\n",
    " * change_price() a method to change the price attribute\n",
    " * discount() to calculate a discount"
   ]
  },
  {
   "cell_type": "code",
   "execution_count": 23,
   "metadata": {
    "pycharm": {
     "name": "#%%\n"
    }
   },
   "outputs": [],
   "source": [
    "class Pants:\n",
    "    \"\"\"a class for pants\n",
    "\n",
    "    attributes\n",
    "        - color (str)\n",
    "        - waist_size (int)\n",
    "        - length (int)\n",
    "        - price (float)\n",
    "\n",
    "    methods:\n",
    "        - change_price\n",
    "            Args:\n",
    "                new_price (float): the new price of the shirt\n",
    "            Returns:\n",
    "                None\n",
    "\n",
    "        - discount\n",
    "            Args:\n",
    "                discount (float): a decimal value for the discount.\n",
    "                                  For example 0.05 for a 5% discount.\n",
    "            Returns:\n",
    "                float: the discounted price\n",
    "        -\n",
    "    \"\"\"\n",
    "\n",
    "    def __init__(self,color:str,waist_size:int,length:int,price:float):\n",
    "        self.color = color\n",
    "        self.waist_size = waist_size\n",
    "        self.length = length\n",
    "        self.price = price\n",
    "\n",
    "    def change_price(self,new_price:float):\n",
    "        \"\"\"\n",
    "        sets a new price\n",
    "\n",
    "        :param new_price (float): the new price of the pants\n",
    "        :return: None\n",
    "        \"\"\"\n",
    "\n",
    "        self.price = new_price\n",
    "\n",
    "    def discount(self, discount:float):\n",
    "        \"\"\"\n",
    "\n",
    "        :param discount (float): a decimal value for the discount.\n",
    "                               For example 0.05 for a 5% discount.\n",
    "        :return: (float) the discounted price\n",
    "        \"\"\"\n",
    "\n",
    "        return self.price * (1 - discount)\n",
    "### TODO:\n",
    "#   - code a Pants class with the following attributes\n",
    "#   - color (string) eg 'red', 'yellow', 'orange'\n",
    "#   - waist_size (integer) eg 8, 9, 10, 32, 33, 34\n",
    "#   - length (integer) eg 27, 28, 29, 30, 31\n",
    "#   - price (float) eg 9.28\n",
    "\n",
    "### TODO: Declare the Pants Class \n",
    "\n",
    "### TODO: write an __init__ function to initialize the attributes\n",
    "\n",
    "### TODO: write a change_price method:\n",
    "#    Args:\n",
    "#        new_price (float): the new price of the shirt\n",
    "#    Returns:\n",
    "#        None\n",
    "\n",
    "### TODO: write a discount method:\n",
    "#    Args:\n",
    "#        discount (float): a decimal value for the discount. \n",
    "#            For example 0.05 for a 5% discount.\n",
    "#\n",
    "#    Returns:\n",
    "#        float: the discounted price"
   ]
  },
  {
   "cell_type": "markdown",
   "metadata": {
    "pycharm": {
     "name": "#%% md\n"
    }
   },
   "source": [
    "# Run the code cell below to check results\n",
    "\n",
    "If you run the next code cell and get an error, then revise your code until the code cell doesn't output anything."
   ]
  },
  {
   "cell_type": "code",
   "execution_count": 24,
   "metadata": {
    "pycharm": {
     "name": "#%%\n"
    }
   },
   "outputs": [
    {
     "name": "stdout",
     "output_type": "stream",
     "text": [
      "You made it to the end of the check. Nice job!\n"
     ]
    }
   ],
   "source": [
    "def check_results():\n",
    "    pants = Pants('red', 35, 36, 15.12)\n",
    "    assert pants.color == 'red'\n",
    "    assert pants.waist_size == 35\n",
    "    assert pants.length == 36\n",
    "    assert pants.price == 15.12\n",
    "    \n",
    "    pants.change_price(10) == 10\n",
    "    assert pants.price == 10\n",
    "    \n",
    "    assert pants.discount(.1) == 9\n",
    "    \n",
    "    print('You made it to the end of the check. Nice job!')\n",
    "\n",
    "check_results()"
   ]
  },
  {
   "cell_type": "markdown",
   "metadata": {
    "pycharm": {
     "name": "#%% md\n"
    }
   },
   "source": [
    "# SalesPerson class\n",
    "\n",
    "The Pants class and Shirt class are quite similar. Here is an exercise to give you more practice writing a class. **This exercise is trickier than the previous exercises.**\n",
    "\n",
    "Write a SalesPerson class with the following characteristics:\n",
    "* the class name should be SalesPerson\n",
    "* the class attributes should include\n",
    " * first_name \n",
    " * last_name\n",
    " * employee_id\n",
    " * salary\n",
    " * pants_sold\n",
    " * total_sales\n",
    "* the class should have an init function that initializes all of the attributes\n",
    "* the class should have four methods\n",
    " * sell_pants() a method to change the price attribute\n",
    " * calculate_sales() a method to calculate the sales\n",
    " * display_sales() a method to print out all the pants sold with nice formatting\n",
    " * calculate_commission() a method to calculate the salesperson commission based on total sales and a percentage"
   ]
  },
  {
   "cell_type": "code",
   "execution_count": 25,
   "metadata": {
    "pycharm": {
     "name": "#%%\n"
    }
   },
   "outputs": [],
   "source": [
    "class SalesPerson:\n",
    "    def __init__(self, first_name:str,last_name:str,employee_id:int,salary:float):\n",
    "        self.first_name = first_name\n",
    "        self.last_name = last_name\n",
    "        self.employee_id = employee_id\n",
    "        self.salary = salary\n",
    "        self.pants_sold = []\n",
    "        self.total_sales = 0\n",
    "\n",
    "    def sell_pants(self, pants: Pants):\n",
    "        \"\"\"\n",
    "           This method receives a Pants object and appends the object to the pants_sold attribute list\n",
    "        \"\"\"\n",
    "\n",
    "        self.pants_sold.append(pants)\n",
    "\n",
    "    def display_sales(self):\n",
    "        \"\"\"\n",
    "        This method has no input or outputs. When this method is called, the code iterates through the pants_sold list and prints out the\n",
    "        characteristics of each pair of pants line by line. The print out should look something like this\n",
    "            color: blue, waist_size: 34, length: 34, price: 10\n",
    "            color: red, waist_size: 36, length: 30, price: 14.15\n",
    "        :return: None\n",
    "        \"\"\"\n",
    "        for pants in self.pants_sold:\n",
    "            print(\"\\n\")\n",
    "            for key,value in vars(pants).items():\n",
    "                print(key,\":\",value,\",\",end=\" \")\n",
    "\n",
    "\n",
    "    def calculate_sales(self):\n",
    "        \"\"\"\n",
    "        This method calculates the total sales for the sales person. method should iterate through the pants_sold attribute list and sum\n",
    "         the prices of the pants sold. The sum should be stored in the total_sales attribute and then return the total.\n",
    "        :return: float: total sales\n",
    "        \"\"\"\n",
    "        for pants in self.pants_sold:\n",
    "            self.total_sales = self.total_sales + pants.price\n",
    "\n",
    "        return self.total_sales\n",
    "\n",
    "    def calculate_commission(self, percentage: float):\n",
    "        \"\"\"\n",
    "          The salesperson receives a commission based on the total sales of pants. The method receives a percentage, and then calculate\n",
    "          the total sales of pants based on the price, and then returns the commission as (percentage * total sales)\n",
    "\n",
    "        :param percentafe (float): comission percentage as a decimal\n",
    "        :return: (float) total commission\n",
    "        \"\"\"\n",
    "\n",
    "        return float(self.total_sales * percentage)\n",
    "\n",
    "\n",
    "\n"
   ]
  },
  {
   "cell_type": "markdown",
   "metadata": {
    "pycharm": {
     "name": "#%% md\n"
    }
   },
   "source": [
    "# Run the code cell below to check results\n",
    "\n",
    "If you run the next code cell and get an error, then revise your code until the code cell doesn't output anything."
   ]
  },
  {
   "cell_type": "code",
   "execution_count": 26,
   "metadata": {
    "pycharm": {
     "name": "#%%\n"
    }
   },
   "outputs": [
    {
     "name": "stdout",
     "output_type": "stream",
     "text": [
      "Great job, you made it to the end of the code checks!\n"
     ]
    }
   ],
   "source": [
    "def check_results():\n",
    "    pants_one = Pants('red', 35, 36, 15.12)\n",
    "    pants_two = Pants('blue', 40, 38, 24.12)\n",
    "    pants_three = Pants('tan', 28, 30, 8.12)\n",
    "    \n",
    "    salesperson = SalesPerson('Amy', 'Gonzalez', 2581923, 40000)\n",
    "    assert salesperson.first_name == 'Amy'\n",
    "    assert salesperson.last_name == 'Gonzalez'\n",
    "    assert salesperson.employee_id == 2581923\n",
    "    assert salesperson.salary == 40000\n",
    "    assert salesperson.pants_sold == []\n",
    "    assert salesperson.total_sales == 0\n",
    "    \n",
    "    salesperson.sell_pants(pants_one)\n",
    "    salesperson.pants_sold[0] == pants_one.color\n",
    "    \n",
    "    salesperson.sell_pants(pants_two)\n",
    "    salesperson.sell_pants(pants_three)\n",
    "    \n",
    "    assert len(salesperson.pants_sold) == 3\n",
    "    assert round(salesperson.calculate_sales(),2) == 47.36\n",
    "    assert round(salesperson.calculate_commission(.1),2) == 4.74\n",
    "    \n",
    "    print('Great job, you made it to the end of the code checks!')\n",
    "    \n",
    "check_results()"
   ]
  },
  {
   "cell_type": "markdown",
   "metadata": {
    "pycharm": {
     "name": "#%% md\n"
    }
   },
   "source": [
    "### Check display_sales() method\n",
    "\n",
    "If you run the code cell below, you should get output similar to this:\n",
    "\n",
    "```python\n",
    "color: red, waist_size: 35, length: 36, price: 15.12\n",
    "color: blue, waist_size: 40, length: 38, price: 24.12\n",
    "color: tan, waist_size: 28, length: 30, price: 8.12\n",
    "```"
   ]
  },
  {
   "cell_type": "code",
   "execution_count": 27,
   "metadata": {
    "pycharm": {
     "name": "#%%\n"
    }
   },
   "outputs": [
    {
     "name": "stdout",
     "output_type": "stream",
     "text": [
      "\n",
      "\n",
      "color : red , waist_size : 35 , length : 36 , price : 15.12 , \n",
      "\n",
      "color : blue , waist_size : 40 , length : 38 , price : 24.12 , \n",
      "\n",
      "color : tan , waist_size : 28 , length : 30 , price : 8.12 , "
     ]
    }
   ],
   "source": [
    "pants_one = Pants('red', 35, 36, 15.12)\n",
    "pants_two = Pants('blue', 40, 38, 24.12)\n",
    "pants_three = Pants('tan', 28, 30, 8.12)\n",
    "\n",
    "salesperson = SalesPerson('Amy', 'Gonzalez', 2581923, 40000)\n",
    "\n",
    "salesperson.sell_pants(pants_one)    \n",
    "salesperson.sell_pants(pants_two)\n",
    "salesperson.sell_pants(pants_three)\n",
    "\n",
    "salesperson.display_sales()"
   ]
  },
  {
   "cell_type": "markdown",
   "metadata": {
    "pycharm": {
     "name": "#%% md\n"
    }
   },
   "source": [
    "# Solution \n",
    "\n",
    "As a reminder, answers are also provided. If you click on the Jupyter icon, you can open a folder called 2.OOP_syntax_pants_practice, which contains this Jupyter notebook and a file called answer.py."
   ]
  }
 ],
 "metadata": {
  "kernelspec": {
   "display_name": "Python 3",
   "language": "python",
   "name": "python3"
  },
  "language_info": {
   "codemirror_mode": {
    "name": "ipython",
    "version": 3
   },
   "file_extension": ".py",
   "mimetype": "text/x-python",
   "name": "python",
   "nbconvert_exporter": "python",
   "pygments_lexer": "ipython3",
   "version": "3.6.3"
  }
 },
 "nbformat": 4,
 "nbformat_minor": 2
}